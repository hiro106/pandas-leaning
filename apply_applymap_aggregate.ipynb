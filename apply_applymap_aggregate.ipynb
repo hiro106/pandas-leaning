{
  "nbformat": 4,
  "nbformat_minor": 0,
  "metadata": {
    "colab": {
      "provenance": [],
      "authorship_tag": "ABX9TyNMeuWOy4GiEW9rsBcg4gV9",
      "include_colab_link": true
    },
    "kernelspec": {
      "name": "python3",
      "display_name": "Python 3"
    },
    "language_info": {
      "name": "python"
    }
  },
  "cells": [
    {
      "cell_type": "markdown",
      "metadata": {
        "id": "view-in-github",
        "colab_type": "text"
      },
      "source": [
        "<a href=\"https://colab.research.google.com/github/hiro106/pandas-learning/blob/main/apply_applymap_aggregate.ipynb\" target=\"_parent\"><img src=\"https://colab.research.google.com/assets/colab-badge.svg\" alt=\"Open In Colab\"/></a>"
      ]
    },
    {
      "cell_type": "markdown",
      "source": [
        "# Broadcasting Operations in Pandas Explained\n"
      ],
      "metadata": {
        "id": "NvicmXqH-C6x"
      }
    },
    {
      "cell_type": "markdown",
      "source": [
        "https://towardsdatascience.com/broadcasting-operations-in-pandas-explained-f8e00af73963"
      ],
      "metadata": {
        "id": "C45KY6Tg9who"
      }
    },
    {
      "cell_type": "code",
      "source": [
        "from google.colab import drive\n",
        "drive.mount('/drive')"
      ],
      "metadata": {
        "id": "gXM_wZj3APOk"
      },
      "execution_count": null,
      "outputs": []
    },
    {
      "cell_type": "code",
      "source": [
        "# Dataset Source: OpenML; License(CC): Public\n",
        "import pandas as pd"
      ],
      "metadata": {
        "id": "IUdWNBcV-C4X"
      },
      "execution_count": null,
      "outputs": []
    },
    {
      "cell_type": "code",
      "source": [
        "df = pd.read_csv(\"/drive/My Drive/Colab Notebooks/titanic_train.csv\")"
      ],
      "metadata": {
        "id": "jfZkDe_C-C1s"
      },
      "execution_count": null,
      "outputs": []
    },
    {
      "cell_type": "code",
      "source": [
        "df"
      ],
      "metadata": {
        "id": "R95Iqjd2-CzQ"
      },
      "execution_count": null,
      "outputs": []
    },
    {
      "cell_type": "markdown",
      "source": [
        "## Apply"
      ],
      "metadata": {
        "id": "5N4FUyihexqB"
      }
    },
    {
      "cell_type": "code",
      "source": [
        "df.columns"
      ],
      "metadata": {
        "id": "IQNxtnuLdnTv"
      },
      "execution_count": null,
      "outputs": []
    },
    {
      "cell_type": "code",
      "source": [
        "df['Fare']"
      ],
      "metadata": {
        "id": "-5xF4vktCz6N"
      },
      "execution_count": null,
      "outputs": []
    },
    {
      "cell_type": "code",
      "source": [
        "df['Fare'] = df['Fare'].apply(lambda x: x * 100)"
      ],
      "metadata": {
        "id": "xKnApBVI-Cwy"
      },
      "execution_count": null,
      "outputs": []
    },
    {
      "cell_type": "code",
      "source": [
        "df['Fare']"
      ],
      "metadata": {
        "id": "FEqgbbJv-CuP"
      },
      "execution_count": null,
      "outputs": []
    },
    {
      "cell_type": "code",
      "source": [
        "# data['last_review_month'] = data['last_review'].apply(lambda x: datetime.strptime(x, \"%Y-%m-%d\").month)"
      ],
      "metadata": {
        "id": "Vnh1XFeb-Crr"
      },
      "execution_count": null,
      "outputs": []
    },
    {
      "cell_type": "code",
      "source": [
        "# data['last_review_day'] = data['last_review'].apply(lambda x: datetime.datetime.strptime(x, \"%Y-%m-%d\").day)"
      ],
      "metadata": {
        "id": "fhMk_9XK-CpQ"
      },
      "execution_count": null,
      "outputs": []
    },
    {
      "cell_type": "markdown",
      "source": [
        "## Applymap"
      ],
      "metadata": {
        "id": "KRoNErWI-Cm-"
      }
    },
    {
      "cell_type": "code",
      "source": [
        "df_name = df.copy()[['Name']]"
      ],
      "metadata": {
        "id": "6I2vCzBV-Cke"
      },
      "execution_count": null,
      "outputs": []
    },
    {
      "cell_type": "code",
      "source": [
        "df_name"
      ],
      "metadata": {
        "id": "SfJcVcOQ-CiO"
      },
      "execution_count": null,
      "outputs": []
    },
    {
      "cell_type": "code",
      "source": [
        "df_name = df_name.applymap(lambda x: x.lower() if type(x) == str else x)"
      ],
      "metadata": {
        "id": "DewU40_l-Cfm"
      },
      "execution_count": null,
      "outputs": []
    },
    {
      "cell_type": "code",
      "source": [
        "df_name"
      ],
      "metadata": {
        "id": "E9t-YOC3-CdF"
      },
      "execution_count": null,
      "outputs": []
    },
    {
      "cell_type": "code",
      "source": [],
      "metadata": {
        "id": "m9QJuQGMoOf0"
      },
      "execution_count": null,
      "outputs": []
    },
    {
      "cell_type": "code",
      "source": [],
      "metadata": {
        "id": "k5L42CXzoOdX"
      },
      "execution_count": null,
      "outputs": []
    },
    {
      "cell_type": "code",
      "source": [],
      "metadata": {
        "id": "Pi7IPN_5oOa9"
      },
      "execution_count": null,
      "outputs": []
    },
    {
      "cell_type": "code",
      "source": [],
      "metadata": {
        "id": "iTQiHUM8oOYZ"
      },
      "execution_count": null,
      "outputs": []
    },
    {
      "cell_type": "code",
      "source": [],
      "metadata": {
        "id": "JK5E843SoOWC"
      },
      "execution_count": null,
      "outputs": []
    },
    {
      "cell_type": "code",
      "source": [],
      "metadata": {
        "id": "2GrtMahaoOTe"
      },
      "execution_count": null,
      "outputs": []
    },
    {
      "cell_type": "code",
      "source": [],
      "metadata": {
        "id": "BSfjwOGooORC"
      },
      "execution_count": null,
      "outputs": []
    },
    {
      "cell_type": "code",
      "source": [],
      "metadata": {
        "id": "3AWB4nvmoOPJ"
      },
      "execution_count": null,
      "outputs": []
    },
    {
      "cell_type": "code",
      "source": [],
      "metadata": {
        "id": "0NGexe3XoOM3"
      },
      "execution_count": null,
      "outputs": []
    },
    {
      "cell_type": "code",
      "source": [],
      "metadata": {
        "id": "pO5SV0LqoOJe"
      },
      "execution_count": null,
      "outputs": []
    },
    {
      "cell_type": "code",
      "source": [],
      "metadata": {
        "id": "U3qa1yT7oOHb"
      },
      "execution_count": null,
      "outputs": []
    },
    {
      "cell_type": "code",
      "source": [],
      "metadata": {
        "id": "d-xWqR1doMt_"
      },
      "execution_count": null,
      "outputs": []
    }
  ]
}